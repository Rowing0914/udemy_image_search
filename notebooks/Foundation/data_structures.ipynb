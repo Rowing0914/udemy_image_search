{
 "cells": [
  {
   "cell_type": "markdown",
   "metadata": {},
   "source": [
    "## 配列・連想配列\n",
    "主な配列には以下のようなものがあります。\n",
    "\n",
    "- タプル（tuple）\n",
    "任意の数の要素を持つことができる配列です。作成したあとは要素の追加や削除を行うことができません。\n",
    "- リスト（list）\n",
    "任意の数の要素を持つことができる配列です。作成したあとでも要素の追加や削除を行うことができます。\n",
    "- ディクショナリ・辞書（dict）\n",
    "任意の数の要素を持つことができる配列で、keyとvalueのペアを一要素とします。作成した後でも要素の追加や削除を行うことができますが、1つのディクショナリの中で同じkeyを持つことができません。\n",
    "- セット・集合（set）\n",
    "任意の数の要素を持つことができる配列です。作成した後でも要素の追加や削除を行うことができますが、1つのセットの中で重複した要素を持つことができません。"
   ]
  },
  {
   "cell_type": "markdown",
   "metadata": {},
   "source": [
    "## Tuple"
   ]
  },
  {
   "cell_type": "code",
   "execution_count": 9,
   "metadata": {},
   "outputs": [
    {
     "name": "stdout",
     "output_type": "stream",
     "text": [
      "(12, 34.56, 'abc', 'xyz')\n",
      "12\n"
     ]
    }
   ],
   "source": [
    "tup1 = (12, 34.56)\n",
    "tup2 = ('abc', 'xyz')\n",
    "\n",
    "# 下記のアクションはエラーになります。タプルの定義に合わないです。\n",
    "# tup1[0] = 100\n",
    "\n",
    "# 新しいタプルを計算から作ってみましょう。\n",
    "tup3 = tup1 + tup2\n",
    "print(tup3)\n",
    "print(tup3[0])"
   ]
  },
  {
   "cell_type": "markdown",
   "metadata": {},
   "source": [
    "## List"
   ]
  },
  {
   "cell_type": "code",
   "execution_count": 8,
   "metadata": {},
   "outputs": [
    {
     "name": "stdout",
     "output_type": "stream",
     "text": [
      "list1[0]:  physics\n",
      "list2[1:5]:  [2, 3, 4, 5]\n"
     ]
    }
   ],
   "source": [
    "list1 = ['physics', 'chemistry', 1997, 2000];\n",
    "list2 = [1, 2, 3, 4, 5, 6, 7 ];\n",
    "print(\"list1[0]: \", list1[0])\n",
    "print(\"list2[1:5]: \", list2[1:5])"
   ]
  },
  {
   "cell_type": "markdown",
   "metadata": {},
   "source": [
    "## Dictionary"
   ]
  },
  {
   "cell_type": "code",
   "execution_count": 10,
   "metadata": {},
   "outputs": [
    {
     "name": "stdout",
     "output_type": "stream",
     "text": [
      "dict['Age']:  8\n",
      "dict['School']:  DPS School\n"
     ]
    }
   ],
   "source": [
    "dict = {'Name': 'Zara', 'Age': 7, 'Class': 'First'}\n",
    "dict['Age'] = 8; # update データ\n",
    "dict['School'] = \"DPS School\"; # Add new データ\n",
    "print(\"dict['Age']: \", dict['Age'])\n",
    "print(\"dict['School']: \", dict['School'])"
   ]
  },
  {
   "cell_type": "markdown",
   "metadata": {},
   "source": [
    "## Set"
   ]
  },
  {
   "cell_type": "code",
   "execution_count": 11,
   "metadata": {},
   "outputs": [
    {
     "name": "stdout",
     "output_type": "stream",
     "text": [
      "{'Wed', 'Tue', 'Mon', 'Thu', 'Fri', 'Sun', 'Sat'}\n",
      "{'Jan', 'Feb', 'Mar'}\n",
      "{17, 21, 22}\n"
     ]
    }
   ],
   "source": [
    "Days=set([\"Mon\",\"Tue\",\"Wed\",\"Thu\",\"Fri\",\"Sat\",\"Sun\"])\n",
    "Months={\"Jan\",\"Feb\",\"Mar\"}\n",
    "Dates={21,22,17}\n",
    "print(Days)\n",
    "print(Months)\n",
    "print(Dates)"
   ]
  },
  {
   "cell_type": "markdown",
   "metadata": {
    "collapsed": true
   },
   "source": [
    "### スライス"
   ]
  },
  {
   "cell_type": "markdown",
   "metadata": {},
   "source": [
    "Pythonではスライスと呼ばれる表記方法で、シーケンスから範囲を指定して要素を取得することができます。  \n",
    "シーケンスはタプルやリスト、文字列などを示す型で、ディクショナリやセットは含まれません\n",
    "\n",
    "#### Formulae\n",
    "data[ <開始位置> : <終了位置> : <ステップ幅> ]  \n",
    "＊0から数え始めるのを忘れないでください。"
   ]
  },
  {
   "cell_type": "code",
   "execution_count": 13,
   "metadata": {},
   "outputs": [
    {
     "name": "stdout",
     "output_type": "stream",
     "text": [
      "[300, 400]\n"
     ]
    }
   ],
   "source": [
    "values = [100, 200, 300, 400, 500]\n",
    "# Slice from third index to index one from last.\n",
    "slice = values[2:-1]\n",
    "print(slice)"
   ]
  },
  {
   "cell_type": "code",
   "execution_count": null,
   "metadata": {
    "collapsed": true
   },
   "outputs": [],
   "source": []
  }
 ],
 "metadata": {
  "kernelspec": {
   "display_name": "Python 3",
   "language": "python",
   "name": "python3"
  },
  "language_info": {
   "codemirror_mode": {
    "name": "ipython",
    "version": 3
   },
   "file_extension": ".py",
   "mimetype": "text/x-python",
   "name": "python",
   "nbconvert_exporter": "python",
   "pygments_lexer": "ipython3",
   "version": "3.6.3"
  }
 },
 "nbformat": 4,
 "nbformat_minor": 2
}
