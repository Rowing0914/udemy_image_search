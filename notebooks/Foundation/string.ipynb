{
 "cells": [
  {
   "cell_type": "markdown",
   "metadata": {},
   "source": [
    "## 文字列\n",
    "\n",
    "1. 文字列の基礎\n",
    "2. 文字列の連結\n",
    "3. 文字列へ変換\n",
    "4. 文字列の置換\n",
    "5. 文字列の分割\n",
    "6. 文字列の桁揃え\n",
    "7. 文字列の検索\n",
    "8. 大文字・小文字変換\n",
    "9. 先頭・末尾の削除"
   ]
  },
  {
   "cell_type": "markdown",
   "metadata": {},
   "source": [
    "### 1. 文字列の基礎\n",
    "Pythonの文字列は 「 ‘ 」（シングルクォーテーション）と「 ” 」（ダブルクォーテーション）の両方で表現出来ます。"
   ]
  },
  {
   "cell_type": "code",
   "execution_count": 1,
   "metadata": {},
   "outputs": [
    {
     "name": "stdout",
     "output_type": "stream",
     "text": [
      "udemy\n"
     ]
    }
   ],
   "source": [
    "print('udemy')"
   ]
  },
  {
   "cell_type": "markdown",
   "metadata": {},
   "source": [
    "クォート記号３つで複数行に分けて書く事も出来ます。"
   ]
  },
  {
   "cell_type": "code",
   "execution_count": 2,
   "metadata": {},
   "outputs": [
    {
     "name": "stdout",
     "output_type": "stream",
     "text": [
      "\n",
      "test_1\n",
      "test_2\n",
      "\n"
     ]
    }
   ],
   "source": [
    "test_str =  \"\"\"\n",
    "test_1\n",
    "test_2\n",
    "\"\"\"\n",
    "print(test_str)"
   ]
  },
  {
   "cell_type": "markdown",
   "metadata": {},
   "source": [
    "### 2. 文字列の連結\n",
    "文字列の連結は「 + 」を使います。"
   ]
  },
  {
   "cell_type": "code",
   "execution_count": 5,
   "metadata": {},
   "outputs": [
    {
     "name": "stdout",
     "output_type": "stream",
     "text": [
      "udemy course\n"
     ]
    }
   ],
   "source": [
    "test_str = 'udemy'\n",
    "test_str = test_str + ' ' + 'course'\n",
    "print(test_str)"
   ]
  },
  {
   "cell_type": "markdown",
   "metadata": {},
   "source": [
    "「 += 」を用いることで特定の文字列への追加も可能です。"
   ]
  },
  {
   "cell_type": "code",
   "execution_count": 7,
   "metadata": {},
   "outputs": [
    {
     "name": "stdout",
     "output_type": "stream",
     "text": [
      "0123456789\n"
     ]
    }
   ],
   "source": [
    "test_str = '012'\n",
    "test_str += '345'\n",
    "test_str += '678'\n",
    "test_str += '9'\n",
    "print(test_str)"
   ]
  },
  {
   "cell_type": "markdown",
   "metadata": {},
   "source": [
    "「 * 」を用いることで指定回数分繰り返すこともできます。"
   ]
  },
  {
   "cell_type": "code",
   "execution_count": 9,
   "metadata": {},
   "outputs": [
    {
     "name": "stdout",
     "output_type": "stream",
     "text": [
      "012012012\n"
     ]
    }
   ],
   "source": [
    "test_str = '012' * 3\n",
    "print(test_str)"
   ]
  },
  {
   "cell_type": "markdown",
   "metadata": {},
   "source": [
    "### 3. 文字列へ変換\n",
    "文字列への変換はstrを使用します。"
   ]
  },
  {
   "cell_type": "code",
   "execution_count": 10,
   "metadata": {},
   "outputs": [
    {
     "name": "stdout",
     "output_type": "stream",
     "text": [
      "100円\n"
     ]
    }
   ],
   "source": [
    "test_integer = 100\n",
    "print(str(test_integer) + '円')"
   ]
  },
  {
   "cell_type": "markdown",
   "metadata": {},
   "source": [
    "### 4. 文字列の置換\n",
    "文字列の置換はreplaceを使用します。"
   ]
  },
  {
   "cell_type": "code",
   "execution_count": 11,
   "metadata": {},
   "outputs": [
    {
     "name": "stdout",
     "output_type": "stream",
     "text": [
      "udeme\n"
     ]
    }
   ],
   "source": [
    "test_str = 'udemy'\n",
    "print(test_str.replace('my', 'me'))"
   ]
  },
  {
   "cell_type": "markdown",
   "metadata": {},
   "source": [
    "### 5. 文字列の分割\n",
    "文字列の分割はsplitを使用します。  \n",
    "これはリスト（list）という形で戻り値を返しますが、リストについては後の項で説明します。  \n",
    "※戻り値とは関数などが返す結果のことで、様々な形で返されます。戻り値を返さないものもあります。"
   ]
  },
  {
   "cell_type": "code",
   "execution_count": 13,
   "metadata": {},
   "outputs": [
    {
     "name": "stdout",
     "output_type": "stream",
     "text": [
      "['udemy', 'online', 'course']\n"
     ]
    }
   ],
   "source": [
    "test_str = 'udemy online course'\n",
    "print(test_str.split(' '))"
   ]
  },
  {
   "cell_type": "markdown",
   "metadata": {},
   "source": [
    "### 6. 文字列の桁揃え\n",
    "文字列の左に値を埋める場合はrjustを使います。  \n",
    "第一引数が埋めた後の桁数、第二引数が埋め込む文字列です。  \n",
    "ゼロ以外の文字列も埋め込み可能です。"
   ]
  },
  {
   "cell_type": "code",
   "execution_count": 14,
   "metadata": {},
   "outputs": [
    {
     "name": "stdout",
     "output_type": "stream",
     "text": [
      "0000001234\n",
      "!!!!!!1234\n"
     ]
    }
   ],
   "source": [
    "test_str = '1234'\n",
    "print(test_str.rjust(10, '0'))\n",
    "print(test_str.rjust(10, '!'))"
   ]
  },
  {
   "cell_type": "markdown",
   "metadata": {},
   "source": [
    "特定の文字列を指定せずゼロで桁埋めする場合はzfillを使います。"
   ]
  },
  {
   "cell_type": "code",
   "execution_count": 15,
   "metadata": {},
   "outputs": [
    {
     "name": "stdout",
     "output_type": "stream",
     "text": [
      "0000001234\n",
      "1234\n"
     ]
    }
   ],
   "source": [
    "test_str = '1234'\n",
    "print(test_str.zfill(10))\n",
    "print(test_str.zfill(3))"
   ]
  },
  {
   "cell_type": "markdown",
   "metadata": {},
   "source": [
    "### 7. 文字列の検索\n",
    "文字列の検索方法は様々です。  \n",
    "まずは文字列の先頭が任意の文字であるかを調べます。戻り値はTrueもしくはFalseです。  \n",
    "※TrueやFalseは真偽値を表します。簡単にいうと〇か×かということで〇はTrue、×はFalseになります。"
   ]
  },
  {
   "cell_type": "code",
   "execution_count": 17,
   "metadata": {},
   "outputs": [
    {
     "name": "stdout",
     "output_type": "stream",
     "text": [
      "True\n",
      "False\n"
     ]
    }
   ],
   "source": [
    "test_str = 'udemy_online' \n",
    "print(test_str.startswith('udemy'))\n",
    "print(test_str.startswith('Udemy'))"
   ]
  },
  {
   "cell_type": "markdown",
   "metadata": {},
   "source": [
    "次は文字列中に任意の文字が含まれているかを調べます。 戻り値は同じくTrueかFalseです。"
   ]
  },
  {
   "cell_type": "code",
   "execution_count": 19,
   "metadata": {},
   "outputs": [
    {
     "name": "stdout",
     "output_type": "stream",
     "text": [
      "False\n",
      "True\n"
     ]
    }
   ],
   "source": [
    "test_str = 'udemy' \n",
    "print('z' in test_str)\n",
    "print('m' in test_str)"
   ]
  },
  {
   "cell_type": "markdown",
   "metadata": {},
   "source": [
    "### 8. 大文字・小文字変換\n",
    "指定の文字列を大文字・小文字へ変換するにはupperもしくはlowerを使います。"
   ]
  },
  {
   "cell_type": "code",
   "execution_count": 20,
   "metadata": {},
   "outputs": [
    {
     "name": "stdout",
     "output_type": "stream",
     "text": [
      "UDEMY.COM\n",
      "udemy.com\n"
     ]
    }
   ],
   "source": [
    "test_str = 'udemy.Com' \n",
    "print(test_str.upper())\n",
    "print(test_str.lower())"
   ]
  },
  {
   "cell_type": "markdown",
   "metadata": {},
   "source": [
    "### 9. 先頭・末尾の削除\n",
    "文字列の先頭・末尾を削除した値を取得します。  \n",
    "それぞれlstripは先頭（左から）、rstripは末尾（右から）の削除となり、引数なしでは空白を除去します。  \n",
    "※末尾の空白の削除は出力結果ではわかりづらいので、スラッシュを付加しています。"
   ]
  },
  {
   "cell_type": "code",
   "execution_count": 21,
   "metadata": {},
   "outputs": [
    {
     "name": "stdout",
     "output_type": "stream",
     "text": [
      "----------------------------------\n",
      "udemy.com\n",
      "udemy.com\n",
      "udemy.com\n",
      "----------------------------------\n",
      "udemy.com/\n",
      "udemy.com/\n",
      "udemy.\n"
     ]
    }
   ],
   "source": [
    "print('----------------------------------')\n",
    "test_str = 'udemy.com'\n",
    "print(test_str)\n",
    "test_str = test_str.lstrip()\n",
    "print(test_str)\n",
    "test_str = test_str.lstrip('python')\n",
    "print(test_str)\n",
    "print('----------------------------------')\n",
    "test_str = 'udemy.com'\n",
    "print(test_str + '/')\n",
    "test_str = test_str.rstrip()\n",
    "print(test_str + '/')\n",
    "test_str = test_str.rstrip(\"com\")\n",
    "print(test_str)"
   ]
  },
  {
   "cell_type": "code",
   "execution_count": null,
   "metadata": {
    "collapsed": true
   },
   "outputs": [],
   "source": []
  }
 ],
 "metadata": {
  "kernelspec": {
   "display_name": "Python 3",
   "language": "python",
   "name": "python3"
  },
  "language_info": {
   "codemirror_mode": {
    "name": "ipython",
    "version": 3
   },
   "file_extension": ".py",
   "mimetype": "text/x-python",
   "name": "python",
   "nbconvert_exporter": "python",
   "pygments_lexer": "ipython3",
   "version": "3.6.3"
  }
 },
 "nbformat": 4,
 "nbformat_minor": 2
}
