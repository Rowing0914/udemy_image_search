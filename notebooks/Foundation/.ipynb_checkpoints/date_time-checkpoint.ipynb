{
 "cells": [
  {
   "cell_type": "markdown",
   "metadata": {},
   "source": [
    "## 日付・時間\n",
    "プログラミングにおける日付や時間の使用頻度は高いです。言語ごとにかなり違いがあるので、調べたりする機会は多々あると思います。\n",
    "\n",
    "1. 日付の取得\n",
    "2. 日付の計算\n",
    "3. うるう年の判定"
   ]
  },
  {
   "cell_type": "markdown",
   "metadata": {},
   "source": [
    "### 1. 日付の取得\n",
    "日付の取得方法は下記の通りです。標準ライブラリであるdatetimeを使用しましょう。このように標準ライブラリやサードパーティライブラリなど、特定の機能を使用したい場合はimportを用います。\n",
    "※str(‘a’)やint(‘1’)など、ごく一般的なプログラムにおいても高い使用頻度が想定されている一部のものは、importを行わずに使うことができます。"
   ]
  },
  {
   "cell_type": "code",
   "execution_count": 1,
   "metadata": {},
   "outputs": [
    {
     "name": "stdout",
     "output_type": "stream",
     "text": [
      "----------------------------------\n",
      "2018-07-22\n",
      "2018-07-22 15:03:33.048052\n",
      "----------------------------------\n",
      "2018\n",
      "7\n",
      "22\n",
      "2018\n",
      "7\n",
      "22\n",
      "15\n",
      "3\n",
      "33\n",
      "48052\n",
      "----------------------------------\n",
      "2018-07-22\n",
      "2018/07/22 15:03:33\n"
     ]
    }
   ],
   "source": [
    "import datetime\n",
    " \n",
    "today = datetime.date.today()\n",
    "todaydetail = datetime.datetime.today()\n",
    " \n",
    "# 今日の日付\n",
    "print('----------------------------------')\n",
    "print(today)\n",
    "print(todaydetail)\n",
    " \n",
    "# 今日に日付：それぞれの値\n",
    "print('----------------------------------')\n",
    "print(today.year)\n",
    "print(today.month)\n",
    "print(today.day)\n",
    "print(todaydetail.year)\n",
    "print(todaydetail.month)\n",
    "print(todaydetail.day)\n",
    "print(todaydetail.hour)\n",
    "print(todaydetail.minute)\n",
    "print(todaydetail.second)\n",
    "print(todaydetail.microsecond)\n",
    " \n",
    "# 日付のフォーマット\n",
    "print('----------------------------------')\n",
    "print(today.isoformat())\n",
    "print(todaydetail.strftime(\"%Y/%m/%d %H:%M:%S\"))\n"
   ]
  },
  {
   "cell_type": "markdown",
   "metadata": {},
   "source": [
    "### 2. 日付の計算\n",
    "日付の計算はtimedeltaを使用します。timedeltaは月の日数、うるう年なども気にしないでよいので、自分で計算するより多くの手間を省くことができます。"
   ]
  },
  {
   "cell_type": "code",
   "execution_count": 4,
   "metadata": {},
   "outputs": [
    {
     "name": "stdout",
     "output_type": "stream",
     "text": [
      "2018-06-20 13:23:12.607695\n",
      "2018-06-21 13:23:12.607695\n",
      "2018-01-08 00:00:00\n",
      "170\n"
     ]
    }
   ],
   "source": [
    "import datetime\n",
    " \n",
    "today = datetime.datetime.today()\n",
    " \n",
    "# 今日の日付\n",
    "print(today)\n",
    " \n",
    "# 明日の日付\n",
    "print(today + datetime.timedelta(days=1))\n",
    " \n",
    "newyear = datetime.datetime(2018, 1, 1)\n",
    " \n",
    "# 2018年1月1日の一週間後\n",
    "print(newyear + datetime.timedelta(days=7))\n",
    " \n",
    "# 2018年1月1日から今日までの日数\n",
    "calc = today - newyear\n",
    " \n",
    "# 計算結果の戻り値は「timedelta」\n",
    "print(calc.days)"
   ]
  },
  {
   "cell_type": "markdown",
   "metadata": {},
   "source": [
    "##"
   ]
  }
 ],
 "metadata": {
  "kernelspec": {
   "display_name": "Python 3",
   "language": "python",
   "name": "python3"
  },
  "language_info": {
   "codemirror_mode": {
    "name": "ipython",
    "version": 3
   },
   "file_extension": ".py",
   "mimetype": "text/x-python",
   "name": "python",
   "nbconvert_exporter": "python",
   "pygments_lexer": "ipython3",
   "version": "3.6.3"
  }
 },
 "nbformat": 4,
 "nbformat_minor": 2
}
