{
 "cells": [
  {
   "cell_type": "markdown",
   "metadata": {},
   "source": [
    "## 数値\n",
    "文字列と並んで大切な数値を説明します。  \n",
    "一見すると数値のように見える文字列（たとえば「’100’」など）と、きちんとした数値（たとえば「100」など）は厳密に区別されるので注意しましょう。  \n",
    "\n",
    "1. 四則演算\n",
    "2. 数値へ変換\n",
    "3. 浮動小数点数\n",
    "4. 複素数"
   ]
  },
  {
   "cell_type": "markdown",
   "metadata": {},
   "source": [
    "### 1. 四則演算  \n",
    "四則演算（加算・減算・乗算・除算）は下記の通りです。"
   ]
  },
  {
   "cell_type": "code",
   "execution_count": 4,
   "metadata": {},
   "outputs": [
    {
     "name": "stdout",
     "output_type": "stream",
     "text": [
      "110\n",
      "90\n",
      "1000\n",
      "10.0\n",
      "<class 'float'>\n"
     ]
    }
   ],
   "source": [
    "test_integer = 100 \n",
    "print(test_integer + 10)\n",
    "print(test_integer - 10)\n",
    "print(test_integer * 10)\n",
    "print(test_integer / 10)\n",
    "print(type(test_integer / 10))"
   ]
  },
  {
   "cell_type": "markdown",
   "metadata": {},
   "source": [
    "### 2. 数値へ変換\n",
    "数値（整数）への変換はintを使用します。"
   ]
  },
  {
   "cell_type": "code",
   "execution_count": 5,
   "metadata": {},
   "outputs": [
    {
     "name": "stdout",
     "output_type": "stream",
     "text": [
      "200\n"
     ]
    }
   ],
   "source": [
    "test_str = '100'\n",
    "print(int(test_str) + 100)"
   ]
  },
  {
   "cell_type": "markdown",
   "metadata": {},
   "source": [
    "### 3. 浮動小数点数\n",
    "プログラミング言語では、基本的に小数点を含まない数値（int）と小数点を含む数値（float）が区別され、小数点を含む数値を浮動小数点数といいます。浮動小数点数への変換はfloatを使用します。"
   ]
  },
  {
   "cell_type": "code",
   "execution_count": 5,
   "metadata": {},
   "outputs": [
    {
     "name": "stdout",
     "output_type": "stream",
     "text": [
      "200.5\n"
     ]
    }
   ],
   "source": [
    "test_str = '100.5'\n",
    "print(float(test_str) + 100)"
   ]
  },
  {
   "cell_type": "markdown",
   "metadata": {},
   "source": [
    "また0.5のように整数部がゼロの場合はそれを省略して記述することができます。"
   ]
  },
  {
   "cell_type": "code",
   "execution_count": 6,
   "metadata": {},
   "outputs": [
    {
     "name": "stdout",
     "output_type": "stream",
     "text": [
      "0.005\n"
     ]
    }
   ],
   "source": [
    "test_float = .005\n",
    "print(test_float)"
   ]
  },
  {
   "cell_type": "markdown",
   "metadata": {},
   "source": [
    "### 4. 複素数\n",
    "複素数を表すcomplexは、数値へjやJを付与することで虚数になります。次の例は実数が100、虚数が5の複素数です。"
   ]
  },
  {
   "cell_type": "code",
   "execution_count": 7,
   "metadata": {},
   "outputs": [
    {
     "name": "stdout",
     "output_type": "stream",
     "text": [
      "(100+5j)\n",
      "100.0\n",
      "5.0\n"
     ]
    }
   ],
   "source": [
    "test_complex = 100 + 5j\n",
    "print(test_complex)\n",
    "print(test_complex.real)\n",
    "print(test_complex.imag)"
   ]
  },
  {
   "cell_type": "code",
   "execution_count": null,
   "metadata": {
    "collapsed": true
   },
   "outputs": [],
   "source": []
  }
 ],
 "metadata": {
  "kernelspec": {
   "display_name": "Python 3",
   "language": "python",
   "name": "python3"
  },
  "language_info": {
   "codemirror_mode": {
    "name": "ipython",
    "version": 3
   },
   "file_extension": ".py",
   "mimetype": "text/x-python",
   "name": "python",
   "nbconvert_exporter": "python",
   "pygments_lexer": "ipython3",
   "version": "3.6.5"
  }
 },
 "nbformat": 4,
 "nbformat_minor": 2
}
