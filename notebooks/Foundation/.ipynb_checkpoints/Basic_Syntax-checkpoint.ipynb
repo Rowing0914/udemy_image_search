{
 "cells": [
  {
   "cell_type": "markdown",
   "metadata": {},
   "source": [
    "この回では、今後pythonを書いていく上で必要な必須構文を学びます。\n",
    "下記はアジェンダです。\n",
    "1. If\n",
    "2. For\n",
    "3. While\n",
    "4. range"
   ]
  },
  {
   "cell_type": "markdown",
   "metadata": {},
   "source": [
    "## If\n",
    "条件分岐を行うための書き方です。"
   ]
  },
  {
   "cell_type": "code",
   "execution_count": 2,
   "metadata": {},
   "outputs": [
    {
     "name": "stdout",
     "output_type": "stream",
     "text": [
      "under\n"
     ]
    }
   ],
   "source": [
    "# 簡単な条件分岐です。\n",
    "a = 8\n",
    "if a > 9:\n",
    "    print('over')\n",
    "else:\n",
    "    print('under')"
   ]
  },
  {
   "cell_type": "code",
   "execution_count": 4,
   "metadata": {},
   "outputs": [
    {
     "name": "stdout",
     "output_type": "stream",
     "text": [
      "What is the temperature?18\n",
      "Wear long pants.\n",
      "Get some exercise outside.\n"
     ]
    }
   ],
   "source": [
    "# input()という関数でインプットをユーザーから取得できます。\n",
    "\n",
    "temperature = float(input('What is the temperature?'))\n",
    "if temperature > 20:\n",
    "    print('Wear shorts.')\n",
    "else:\n",
    "    print('Wear long pants.')\n",
    "print('Get some exercise outside.')"
   ]
  },
  {
   "cell_type": "markdown",
   "metadata": {},
   "source": [
    "### For\n",
    "プログラミングにおいて繰り返し処理を行う書き方です。"
   ]
  },
  {
   "cell_type": "code",
   "execution_count": 4,
   "metadata": {},
   "outputs": [
    {
     "name": "stdout",
     "output_type": "stream",
     "text": [
      "This\n",
      "is\n",
      "an\n",
      "udemy\n",
      "course\n"
     ]
    }
   ],
   "source": [
    "# 簡単なfor loop です。\n",
    "# リストに入っているデータを全てプリントします。\n",
    "\n",
    "data = ['This', 'is', 'an', 'udemy', 'course']\n",
    "\n",
    "for word in data:\n",
    "    print(word)"
   ]
  },
  {
   "cell_type": "code",
   "execution_count": 5,
   "metadata": {},
   "outputs": [
    {
     "name": "stdout",
     "output_type": "stream",
     "text": [
      "number:  1\n",
      "number:  2\n",
      "number:  3\n",
      "number:  4\n",
      "number:  5\n"
     ]
    }
   ],
   "source": [
    "list_loop = [1,2,3,4,5]\n",
    "\n",
    "for i in list_loop:\n",
    "    print(\"number: \", i)"
   ]
  },
  {
   "cell_type": "markdown",
   "metadata": {},
   "source": [
    "### while\n",
    "Pythonでもwhile文が存在します。for文で代用できるケースもありますが、while文ではより複雑な条件で繰り返し処理を行うことができます。"
   ]
  },
  {
   "cell_type": "code",
   "execution_count": 5,
   "metadata": {},
   "outputs": [
    {
     "name": "stdout",
     "output_type": "stream",
     "text": [
      "1\n",
      "2\n",
      "3\n",
      "4\n",
      "5\n",
      "6\n",
      "7\n",
      "8\n",
      "9\n",
      "10\n"
     ]
    }
   ],
   "source": [
    "counter = 10\n",
    "\n",
    "while counter < 10:\n",
    "    counter += 1\n",
    "    print(counter)"
   ]
  },
  {
   "cell_type": "code",
   "execution_count": 6,
   "metadata": {},
   "outputs": [
    {
     "name": "stdout",
     "output_type": "stream",
     "text": [
      "1\n",
      "2\n",
      "3\n",
      "4\n",
      "5\n"
     ]
    }
   ],
   "source": [
    "# 下記のようにこれまでみてきた条件分岐との組み合わせも可能です！\n",
    "counter = 0\n",
    " \n",
    "while True:\n",
    "    counter += 1\n",
    "    print(counter)\n",
    "    if counter == 5:\n",
    "        break"
   ]
  },
  {
   "cell_type": "markdown",
   "metadata": {},
   "source": [
    "### range\n",
    "こちらは、loop処理をするときなどに効率よくリストを作成することのできる書き方です。"
   ]
  },
  {
   "cell_type": "code",
   "execution_count": 7,
   "metadata": {},
   "outputs": [
    {
     "name": "stdout",
     "output_type": "stream",
     "text": [
      "0\n",
      "1\n",
      "2\n",
      "3\n",
      "4\n"
     ]
    }
   ],
   "source": [
    "for i in range(5):\n",
    "    print(i)"
   ]
  },
  {
   "cell_type": "code",
   "execution_count": null,
   "metadata": {
    "collapsed": true
   },
   "outputs": [],
   "source": []
  }
 ],
 "metadata": {
  "kernelspec": {
   "display_name": "Python 3",
   "language": "python",
   "name": "python3"
  },
  "language_info": {
   "codemirror_mode": {
    "name": "ipython",
    "version": 3
   },
   "file_extension": ".py",
   "mimetype": "text/x-python",
   "name": "python",
   "nbconvert_exporter": "python",
   "pygments_lexer": "ipython3",
   "version": "3.6.5"
  }
 },
 "nbformat": 4,
 "nbformat_minor": 2
}
