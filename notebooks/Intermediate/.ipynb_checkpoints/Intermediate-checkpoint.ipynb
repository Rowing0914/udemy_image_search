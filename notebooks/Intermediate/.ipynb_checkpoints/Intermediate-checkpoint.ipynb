{
 "cells": [
  {
   "cell_type": "markdown",
   "metadata": {},
   "source": [
    "## 中級編\n",
    "こちらはPythonの中級編です。\n",
    "下記がアジェンダになります。\n",
    "\n",
    "- **クラス**：ユーザーが定義するオブジェクトのプロトタイプです。そして、そのクラスに格納されているメソッドや変数等のattributesを定義することができます。そして、基本的にはそれらに対しては\".\"を使用してアクセスをすることができます。\n",
    "- **コンストラクタ**：オブジェクト生成時に呼び出される特殊な関数をコンストラクタと言います。オブジェクトが扱うデータの初期化などをここで行います。コンストラクタは__init__()という名前で定義します。\"_\"を前後に2つです。注意してください。\n",
    "- **継承**：「継承」はあるクラスを別のクラスのデータとメソッドを持つクラスとして定義することです。継承はPythonのみならず、オブジェクト指向プログラミング言語に共通する重要な考え方です。\n",
    "- **多重継承**：Pythonは複数の基底クラスを引き継ぐ「多重継承」が可能です。class クラス名(基底クラス名1,基底クラス名2,・・・)\n",
    "- **カプセル化**：カプセル化とは、オブジェクト指向プログラミングにおいて、互いに関連するデータの集合とそれらに対する操作をオブジェクトとして一つの単位にまとめ、外部に対して必要な情報や手続きのみを提供すること。外から直に参照や操作をする必要のない内部の状態や構造は秘匿される。"
   ]
  },
  {
   "cell_type": "markdown",
   "metadata": {
    "collapsed": true
   },
   "source": [
    "## クラス\n",
    "ユーザーが定義するオブジェクトのプロトタイプです。そして、そのクラスに格納されているメソッドや変数等のattributesを定義することができます。   \n",
    "そして、基本的にはそれらに対しては\".\"を使用してアクセスをすることができます。"
   ]
  },
  {
   "cell_type": "code",
   "execution_count": 1,
   "metadata": {},
   "outputs": [
    {
     "name": "stdout",
     "output_type": "stream",
     "text": [
      "call method\n",
      "100\n"
     ]
    }
   ],
   "source": [
    "class Spam:\n",
    "    val = 100\n",
    "    def ham(self):\n",
    "        self.egg('call method')\n",
    "\n",
    "    def egg(self,msg):\n",
    "        print(\"{0}\".format(msg))\n",
    "        print((\"{0}\".format(self.val)))\n",
    "\n",
    "spam = Spam()\n",
    "spam.ham()"
   ]
  },
  {
   "cell_type": "markdown",
   "metadata": {},
   "source": [
    "Pythonではクラスはclass クラス名 :で作成します。クラス名の先頭は大文字です。  \n",
    "クラス変数とクラス内関数(=メソッド)は字下げを使用して定義します。  \n",
    "オブジェクトは オブジェクト = クラス() で生成します。  \n",
    "メソッドは オブジェクト.メソッド()で呼び出します。  "
   ]
  },
  {
   "cell_type": "markdown",
   "metadata": {},
   "source": [
    "## コンストラクタ\n",
    "オブジェクト生成時に呼び出される特殊な関数をコンストラクタと言います。  \n",
    "オブジェクトが扱うデータの初期化などをここで行います。コンストラクタは__init__()という名前で定義します。\"_\"を前後に2つです。注意してください。"
   ]
  },
  {
   "cell_type": "code",
   "execution_count": 2,
   "metadata": {},
   "outputs": [
    {
     "name": "stdout",
     "output_type": "stream",
     "text": [
      "15\n"
     ]
    }
   ],
   "source": [
    "class Spam:\n",
    "    def __init__(self,ham,egg):\n",
    "        self.ham = ham\n",
    "        self.egg = egg\n",
    "    def output(self):\n",
    "        sum = self.ham + self.egg\n",
    "        print(\"{0}\".format(sum))\n",
    "\n",
    "spam = Spam(5,10)\n",
    "spam.output()"
   ]
  },
  {
   "cell_type": "markdown",
   "metadata": {},
   "source": [
    "## 継承\n",
    "「継承」はあるクラスを別のクラスのデータとメソッドを持つクラスとして定義することです。  \n",
    "継承はPythonのみならず、オブジェクト指向プログラミング言語に共通する重要な考え方です。"
   ]
  },
  {
   "cell_type": "code",
   "execution_count": 31,
   "metadata": {},
   "outputs": [
    {
     "name": "stdout",
     "output_type": "stream",
     "text": [
      "m of A called\n"
     ]
    }
   ],
   "source": [
    "# A: parent, B: child => B is a A\n",
    "class A:\n",
    "    def m(self):\n",
    "        print(\"m of A called\")\n",
    "\n",
    "class B(A):\n",
    "    def __init__(self):\n",
    "        self.m()\n",
    "b = B()"
   ]
  },
  {
   "cell_type": "markdown",
   "metadata": {},
   "source": [
    "## 多重継承\n",
    "Pythonは複数の基底クラスを引き継ぐ「多重継承」が可能です。  \n",
    "class クラス名(基底クラス名1,基底クラス名2,・・・)"
   ]
  },
  {
   "cell_type": "code",
   "execution_count": 5,
   "metadata": {},
   "outputs": [
    {
     "name": "stdout",
     "output_type": "stream",
     "text": [
      "m of C called\n",
      "(<class '__main__.D'>, <class '__main__.C'>, <class '__main__.B'>, <class '__main__.A'>, <class 'object'>)\n"
     ]
    }
   ],
   "source": [
    "# A: parent, B, C: children => B and C is a A\n",
    "class A:\n",
    "    def m(self):\n",
    "        print(\"m of A called\")\n",
    "\n",
    "class B(A):\n",
    "    def m(self):\n",
    "        print(\"m of B called\")\n",
    "    \n",
    "class C(A):\n",
    "    def m(self):\n",
    "        print(\"m of C called\")\n",
    "\n",
    "class D(C,B):\n",
    "    def __init__(self):\n",
    "        self.m()\n",
    "d = D()\n",
    "print(D.__mro__)"
   ]
  },
  {
   "cell_type": "markdown",
   "metadata": {},
   "source": [
    "## カプセル化\n",
    "カプセル化とは、オブジェクト指向プログラミングにおいて、互いに関連するデータの集合とそれらに対する操作をオブジェクトとして一つの単位にまとめ、外部に対して必要な情報や手続きのみを提供すること。  \n",
    "外から直に参照や操作をする必要のない内部の状態や構造は秘匿される。"
   ]
  },
  {
   "cell_type": "code",
   "execution_count": 14,
   "metadata": {},
   "outputs": [
    {
     "name": "stdout",
     "output_type": "stream",
     "text": [
      "Hi, my name is Python, I am 20 year-old!\n"
     ]
    }
   ],
   "source": [
    "class Human:\n",
    "    def __init__(self, name, age):\n",
    "        self.name = name\n",
    "        self.__age  = age\n",
    "    def introduce_yourself(self):\n",
    "        print(\"Hi, my name is %s, I am %d year-old!\"%(self.name, self.__age))\n",
    "\n",
    "human = Human(name=\"Python\", age=20)\n",
    "human.introduce_yourself()"
   ]
  },
  {
   "cell_type": "markdown",
   "metadata": {},
   "source": [
    "Pythonにおいては、下記にある様に\"__attribute_name\"と言った指定の仕方に従うことにより、データに対しての外部からの直接のアクセスを防げます。"
   ]
  },
  {
   "cell_type": "code",
   "execution_count": 12,
   "metadata": {},
   "outputs": [
    {
     "name": "stdout",
     "output_type": "stream",
     "text": [
      "asdfgasdgdfgdf\n",
      "asdfgasdgdfgdf\n",
      "10\n"
     ]
    }
   ],
   "source": [
    "print(human.name)\n",
    "print(human.__age)"
   ]
  },
  {
   "cell_type": "markdown",
   "metadata": {},
   "source": [
    "## Use Case"
   ]
  },
  {
   "cell_type": "code",
   "execution_count": 37,
   "metadata": {},
   "outputs": [
    {
     "name": "stdout",
     "output_type": "stream",
     "text": [
      "This is not the registerd course....\n"
     ]
    }
   ],
   "source": [
    "class Udemy:\n",
    "    def __init__(self, course_name):\n",
    "        self.__course_name = course_name\n",
    "    def check_course_name(self, new_course_name):\n",
    "        if self.__course_name == new_course_name:\n",
    "            print(\"Matching!\")\n",
    "        else:\n",
    "            print(\"This is not the registerd course....\")\n",
    "\n",
    "udemy = Udemy(\"deep_learning\")\n",
    "udemy.check_course_name(\"deeplearning\")"
   ]
  },
  {
   "cell_type": "code",
   "execution_count": 12,
   "metadata": {},
   "outputs": [
    {
     "name": "stdout",
     "output_type": "stream",
     "text": [
      "==== Game started ====\n",
      "アクションを取りましょう！\n",
      "下記の中からアクションを選んでください。\n",
      "['A', 'B', 'C']C\n",
      "Monsterの残りのHP:  2\n",
      "Monsterの攻撃, Playerの残りのHP:  3\n",
      "アクションを取りましょう！\n",
      "下記の中からアクションを選んでください。\n",
      "['A', 'B', 'C']C\n",
      "You won!!\n",
      "=== Game End ===\n"
     ]
    }
   ],
   "source": [
    "import numpy as np\n",
    "\n",
    "class Creature:\n",
    "    def __init__(self):\n",
    "        self.HP = 0\n",
    "        self.action = []\n",
    "    def set_HP(self, HP):\n",
    "        self.HP = HP\n",
    "    def set_action(self, action):\n",
    "        self.action = action\n",
    "    def get_hurt(self, action):\n",
    "        if action == 'A':\n",
    "            self.HP -= 1\n",
    "        elif action == 'B':\n",
    "            self.HP -= 2\n",
    "        elif action == 'C':\n",
    "            self.HP -= 3\n",
    "    def isDead(self):\n",
    "        return True if self.HP <= 0 else False\n",
    "\n",
    "class Monster(Creature):\n",
    "    def __init__(self):\n",
    "        pass\n",
    "\n",
    "class Player(Creature):\n",
    "    def __init__(self):\n",
    "        pass\n",
    "    \n",
    "actions = ['A', 'B', 'C']\n",
    "HP = 5\n",
    "monster = Monster()\n",
    "player = Player()\n",
    "monster.set_HP(HP)\n",
    "monster.set_action(actions)\n",
    "player.set_HP(HP)\n",
    "player.set_action(actions)\n",
    "\n",
    "print(\"==== Game started ====\")\n",
    "while True:\n",
    "    print(\"アクションを取りましょう！\")\n",
    "    print(\"下記の中からアクションを選んでください。\")\n",
    "    action = input(player.action)\n",
    "    monster.get_hurt(action)\n",
    "    if monster.isDead():\n",
    "        print(\"You won!!\")\n",
    "        break\n",
    "    print(\"Monsterの残りのHP: \", monster.HP)\n",
    "    player.get_hurt(actions[np.random.randint(3)])\n",
    "    if player.isDead():\n",
    "        print(\"You lost and game over.....\")\n",
    "        break\n",
    "    print(\"Monsterの攻撃, Playerの残りのHP: \", player.HP)\n",
    "\n",
    "print(\"=== Game End ===\")"
   ]
  }
 ],
 "metadata": {
  "kernelspec": {
   "display_name": "Python 3",
   "language": "python",
   "name": "python3"
  },
  "language_info": {
   "codemirror_mode": {
    "name": "ipython",
    "version": 3
   },
   "file_extension": ".py",
   "mimetype": "text/x-python",
   "name": "python",
   "nbconvert_exporter": "python",
   "pygments_lexer": "ipython3",
   "version": "3.6.5"
  }
 },
 "nbformat": 4,
 "nbformat_minor": 2
}
