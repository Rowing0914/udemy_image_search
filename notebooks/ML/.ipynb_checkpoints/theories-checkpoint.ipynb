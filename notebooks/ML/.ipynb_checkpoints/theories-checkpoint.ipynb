{
 "cells": [
  {
   "cell_type": "markdown",
   "metadata": {},
   "source": [
    "https://qiita.com/ishizakiiii/items/f6909696c616fd6294ca  \n",
    "https://qiita.com/tomomoto/items/b3fd1ec7f9b68ab6dfe2#nn  \n",
    "https://qiita.com/m-hayashi/items/dab9d2f61c46df0a3a0a  \n",
    "https://qiita.com/AfricaUmare/items/fbbbc6df11f78532932d  "
   ]
  },
  {
   "cell_type": "code",
   "execution_count": null,
   "metadata": {
    "collapsed": true
   },
   "outputs": [],
   "source": []
  }
 ],
 "metadata": {
  "kernelspec": {
   "display_name": "Python 3",
   "language": "python",
   "name": "python3"
  },
  "language_info": {
   "codemirror_mode": {
    "name": "ipython",
    "version": 3
   },
   "file_extension": ".py",
   "mimetype": "text/x-python",
   "name": "python",
   "nbconvert_exporter": "python",
   "pygments_lexer": "ipython3",
   "version": "3.6.3"
  }
 },
 "nbformat": 4,
 "nbformat_minor": 2
}
