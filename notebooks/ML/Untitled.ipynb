{
 "cells": [
  {
   "cell_type": "code",
   "execution_count": 12,
   "metadata": {},
   "outputs": [],
   "source": [
    "from sklearn.svm import SVC\n",
    "from sklearn.model_selection import train_test_split\n",
    "import numpy as np\n",
    "import pandas as pd\n",
    "\n",
    "# class: 0\n",
    "df_a = pd.DataFrame({'x1': np.random.randn(100),\n",
    "                     'x2': np.random.randn(100),\n",
    "                     'y' : 0})\n",
    "# class: 1\n",
    "df_b = pd.DataFrame({'x1': np.random.randn(100) + 5,\n",
    "                     'x2': np.random.randn(100) + 3,\n",
    "                     'y' : 1})\n",
    "df = df_a.append(df_b)\n",
    "\n",
    "# トレーニングデータとテストデータに分割\n",
    "X_train, X_test, y_train, y_test = train_test_split(df[['x1','x2']], df['y'], test_size=0.2)\n",
    "\n",
    "# 1. モデルインスタンス生成\n",
    "clf = SVC()\n",
    "\n",
    "# 2. fit 学習\n",
    "clf.fit(X_train, y_train)\n",
    "\n",
    "# 3. predict 予測\n",
    "y_pred = clf.predict(X_test)"
   ]
  },
  {
   "cell_type": "code",
   "execution_count": 13,
   "metadata": {},
   "outputs": [
    {
     "name": "stdout",
     "output_type": "stream",
     "text": [
      "[[17  0]\n",
      " [ 0 23]]\n"
     ]
    }
   ],
   "source": [
    "from sklearn.metrics import confusion_matrix\n",
    "\n",
    "print(confusion_matrix(y_test, y_pred))"
   ]
  },
  {
   "cell_type": "code",
   "execution_count": null,
   "metadata": {},
   "outputs": [],
   "source": []
  }
 ],
 "metadata": {
  "kernelspec": {
   "display_name": "Python 3",
   "language": "python",
   "name": "python3"
  },
  "language_info": {
   "codemirror_mode": {
    "name": "ipython",
    "version": 3
   },
   "file_extension": ".py",
   "mimetype": "text/x-python",
   "name": "python",
   "nbconvert_exporter": "python",
   "pygments_lexer": "ipython3",
   "version": "3.6.5"
  }
 },
 "nbformat": 4,
 "nbformat_minor": 2
}
