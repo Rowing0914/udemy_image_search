{
 "cells": [
  {
   "cell_type": "markdown",
   "metadata": {},
   "source": [
    "[wikipedia](https://ja.wikipedia.org/wiki/%E3%83%AD%E3%82%B8%E3%82%B9%E3%83%86%E3%82%A3%E3%83%83%E3%82%AF%E5%9B%9E%E5%B8%B0)\n",
    "> ロジスティック回帰（ロジスティックかいき、英: Logistic regression）は、ベルヌーイ分布に従う変数の統計的回帰モデルの一種である。連結関数としてロジットを使用する一般化線形モデル (GLM) の一種でもある。1958年に David Cox が発表した[1]。確率の回帰であり、統計学の分類に主に使われる。医学や社会科学でもよく使われる。\n",
    "\n",
    "基本的にはシグモイド関数を線形回帰で求められた仮説($\\theta$)へと適用した結果の分類を考えるモデルです。  \n",
    "シグモイド関数は下記の様な形をしています。  \n",
    "$$\\sigma = \\frac{1}{1+e^{-\\theta}}$$"
   ]
  },
  {
   "cell_type": "code",
   "execution_count": 5,
   "metadata": {},
   "outputs": [
    {
     "data": {
      "image/png": "[encoded data removed]",
      "text/plain": [
       "<matplotlib.figure.Figure at 0x11391aac8>"
      ]
     },
     "metadata": {},
     "output_type": "display_data"
    }
   ],
   "source": [
    "import matplotlib.pyplot as plt\n",
    "import numpy as np\n",
    "\n",
    "def sigmoid(a):\n",
    "    return 1/(1+np.exp(-a))\n",
    "\n",
    "X = np.linspace(-20, 20, 40)\n",
    "plt.plot(X, sigmoid(X))\n",
    "plt.show()"
   ]
  },
  {
   "cell_type": "markdown",
   "metadata": {},
   "source": [
    "上記の図からもわかる様に、どんな値も0から1の値に押し込める作業をしてくれます。\n",
    "このレンジで取れるものなので、確率の値と捉えてその値の大小を用いて2値分類の様な分類をしていくこともできます。"
   ]
  },
  {
   "cell_type": "code",
   "execution_count": 6,
   "metadata": {},
   "outputs": [
    {
     "name": "stdout",
     "output_type": "stream",
     "text": [
      "cross_val_score:  [ 0.98039216  0.88235294  1.        ]\n",
      "              s_l         s_w         p_l         p_w       class\n",
      "count  150.000000  150.000000  150.000000  150.000000  150.000000\n",
      "mean     5.843333    3.054000    3.758667    1.198667    1.000000\n",
      "std      0.828066    0.433594    1.764420    0.763161    0.819232\n",
      "min      4.300000    2.000000    1.000000    0.100000    0.000000\n",
      "25%      5.100000    2.800000    1.600000    0.300000    0.000000\n",
      "50%      5.800000    3.000000    4.350000    1.300000    1.000000\n",
      "75%      6.400000    3.300000    5.100000    1.800000    2.000000\n",
      "max      7.900000    4.400000    6.900000    2.500000    2.000000\n",
      "[[21  0  0]\n",
      " [ 0 11  1]\n",
      " [ 0  2 16]]\n"
     ]
    }
   ],
   "source": [
    "\"\"\"\n",
    "Dataset Description: https://archive.ics.uci.edu/ml/datasets/iris\n",
    "columns:\n",
    "1. s_l => sepal length in cm\n",
    "2. s_w => sepal width in cm\n",
    "3. p_l => petal length in cm\n",
    "4. p_w => petal width in cm\n",
    "5. class:\n",
    "-- Iris Setosa \n",
    "-- Iris Versicolour \n",
    "-- Iris Virginica\n",
    "\"\"\"\n",
    "\n",
    "import numpy as np\n",
    "from sklearn import linear_model, datasets\n",
    "from sklearn.model_selection import cross_val_score\n",
    "import pandas as pd\n",
    "from sklearn.metrics import confusion_matrix\n",
    "\n",
    "iris = datasets.load_iris()\n",
    "X = pd.DataFrame(iris.data, columns=['s_l', 's_w', 'p_l', 'p_w'])\n",
    "Y = pd.DataFrame(iris.target, columns=['class'])\n",
    "\n",
    "# cross validation\n",
    "LR = linear_model.LogisticRegression(C=1e5)\n",
    "print(\"cross_val_score: \", cross_val_score(LR, X, Y.values.reshape(len(Y)), scoring='accuracy'))\n",
    "\n",
    "# Merger X,Y into a dataframe\n",
    "Data = pd.concat([X,Y], axis=1)\n",
    "print(Data.describe())\n",
    "\n",
    "# split data into train/test\n",
    "split_index = int(len(X)*0.66)\n",
    "\n",
    "# shuffle datasets\n",
    "Data = Data.sample(frac=1)\n",
    "\n",
    "# split data into train/test\n",
    "X_train, X_test = Data.iloc[:split_index, :-2], Data.iloc[split_index:, :-2]\n",
    "Y_train, Y_test = Data.iloc[:split_index, -1], Data.iloc[split_index:, -1]\n",
    "\n",
    "LR = linear_model.LogisticRegression(C=1e5)\n",
    "LR.fit(X_train, Y_train)\n",
    "prediction = LR.predict(X_test)\n",
    "matrix = confusion_matrix(prediction, Y_test.values.reshape(len(Y_test)))\n",
    "print(matrix)"
   ]
  },
  {
   "cell_type": "code",
   "execution_count": null,
   "metadata": {
    "collapsed": true
   },
   "outputs": [],
   "source": []
  }
 ],
 "metadata": {
  "kernelspec": {
   "display_name": "Python 3",
   "language": "python",
   "name": "python3"
  },
  "language_info": {
   "codemirror_mode": {
    "name": "ipython",
    "version": 3
   },
   "file_extension": ".py",
   "mimetype": "text/x-python",
   "name": "python",
   "nbconvert_exporter": "python",
   "pygments_lexer": "ipython3",
   "version": "3.6.3"
  }
 },
 "nbformat": 4,
 "nbformat_minor": 2
}
