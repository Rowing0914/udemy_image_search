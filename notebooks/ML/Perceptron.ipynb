{
 "cells": [
  {
   "cell_type": "markdown",
   "metadata": {},
   "source": [
    "今回はアルゴリズムの説明はQiitaに書きました。  \n",
    "markdownでまとめる方が楽でして。。。  \n",
    "\n",
    "https://qiita.com/Rowing0914/items/e0fee727cf761458d2f7"
   ]
  },
  {
   "cell_type": "markdown",
   "metadata": {},
   "source": [
    "## 実装"
   ]
  },
  {
   "cell_type": "markdown",
   "metadata": {},
   "source": [
    "### 一回のみ重み更新パーセプトロンの実装"
   ]
  },
  {
   "cell_type": "code",
   "execution_count": 2,
   "metadata": {},
   "outputs": [
    {
     "data": {
      "text/plain": [
       "array([[0.3588434 , 0.34525849, 0.06141849],\n",
       "       [0.29575676, 0.3524059 , 0.01935928],\n",
       "       [0.10469905, 0.72790586, 0.32933082],\n",
       "       [0.52217517, 0.5597451 , 0.26956989],\n",
       "       [0.69246189, 0.95598998, 0.910297  ],\n",
       "       [0.14931409, 0.36465034, 0.68482533],\n",
       "       [0.30090531, 0.28241025, 0.43610198],\n",
       "       [0.81582506, 0.12471843, 0.15490734],\n",
       "       [0.21242529, 0.06979104, 0.84312058],\n",
       "       [0.23295057, 0.24231447, 0.2136989 ]])"
      ]
     },
     "execution_count": 2,
     "metadata": {},
     "output_type": "execute_result"
    }
   ],
   "source": [
    "X"
   ]
  },
  {
   "cell_type": "code",
   "execution_count": 6,
   "metadata": {},
   "outputs": [
    {
     "name": "stdout",
     "output_type": "stream",
     "text": [
      "z: 0.429, result: 0\n",
      "z: 0.979, result: 1\n",
      "z: 0.820, result: 1\n",
      "z: 0.991, result: 1\n",
      "z: 1.316, result: 1\n",
      "z: 0.986, result: 1\n",
      "z: 0.856, result: 1\n",
      "z: 0.688, result: 1\n",
      "z: 0.482, result: 0\n",
      "z: 0.842, result: 1\n",
      "更新前の重み\n",
      " [[0.33074942]\n",
      " [0.90893887]\n",
      " [0.33195033]]\n",
      "重みを一回だけ更新後\n",
      " [[0.27555971]\n",
      " [0.83487793]\n",
      " [0.2583083 ]]\n"
     ]
    }
   ],
   "source": [
    "import numpy as np\n",
    "\n",
    "def perceptron(X, W, theta, result):\n",
    "    for i in X:\n",
    "        z = np.dot(W.T, i)\n",
    "        if z >= theta:\n",
    "            print(\"z: %.3f, result: %d\" % (z, 1))\n",
    "            result.append(1)\n",
    "        else:\n",
    "            print(\"z: %.3f, result: %d\" % (z, 0))\n",
    "            result.append(0)\n",
    "    return result\n",
    "\n",
    "def update_rule(X, y, prediction, learning_rate, W):\n",
    "    index = 0\n",
    "    for label, pred in zip(y, prediction):\n",
    "        error = label - pred\n",
    "        update_value = (learning_rate*error)*X[index].reshape(3,1)\n",
    "        W += update_value\n",
    "        index+=1\n",
    "    return W\n",
    "\n",
    "# dataset\n",
    "X = np.random.rand(10, 3)\n",
    "y = np.random.randint(0, 2, size=(10,1))\n",
    "\n",
    "# weight vector\n",
    "W = np.random.uniform(low=0, high=1, size=(3,1))\n",
    "\n",
    "# theta, threshold\n",
    "theta = 0.5\n",
    "result = []\n",
    "\n",
    "prediction = perceptron(X, W, theta, result)\n",
    "\n",
    "# list => numpy arrayの変換\n",
    "prediction = np.array(prediction).reshape(len(prediction),1)\n",
    "\n",
    "# 学習率\n",
    "learning_rate = 0.02\n",
    "\n",
    "print(\"更新前の重み\\n\",W)\n",
    "\n",
    "# 重みの更新\n",
    "W = update_rule(X, y, prediction, learning_rate, W)\n",
    "print(\"重みを一回だけ更新後\\n\",W)\n"
   ]
  },
  {
   "cell_type": "code",
   "execution_count": 4,
   "metadata": {},
   "outputs": [
    {
     "name": "stdout",
     "output_type": "stream",
     "text": [
      "更新前の重み\n",
      " [[0.80372474]\n",
      " [0.16451678]\n",
      " [0.33784733]]\n",
      "z: 0.582, result: 1\n",
      "z: 0.674, result: 1\n",
      "z: 0.846, result: 1\n",
      "z: 0.446, result: 0\n",
      "z: 0.094, result: 0\n",
      "z: 0.360, result: 0\n",
      "z: 0.257, result: 0\n",
      "z: 0.937, result: 1\n",
      "z: 0.603, result: 1\n",
      "z: 0.298, result: 0\n",
      "重み更新後\n",
      " [[0.80214373]\n",
      " [0.16497098]\n",
      " [0.33890637]]\n",
      "[1]\n"
     ]
    }
   ],
   "source": [
    "import numpy as np\n",
    "\n",
    "def perceptron(X, W, theta, result):\n",
    "    for i in X:\n",
    "        z = np.dot(W.T, i)\n",
    "        if z >= theta:\n",
    "            print(\"z: %.3f, result: %d\" % (z, 1))\n",
    "            result.append(1)\n",
    "        else:\n",
    "            print(\"z: %.3f, result: %d\" % (z, 0))\n",
    "            result.append(0)\n",
    "    return result\n",
    "\n",
    "def update_rule(X, y, prediction, learning_rate, W):\n",
    "    index = 0\n",
    "    errors = []\n",
    "    for label, pred in zip(y, prediction):\n",
    "        error = label - pred\n",
    "        update_value = (learning_rate*error)*X[index].reshape(3,1)\n",
    "        W += update_value\n",
    "        index+=1\n",
    "        errors.append(error)\n",
    "    # 何個間違っているのかを計算する\n",
    "    num_error = np.abs(sum(errors))\n",
    "    return W, num_error\n",
    "\n",
    "# dataset\n",
    "X = np.random.rand(10, 3)\n",
    "y = np.random.randint(0, 2, size=(10,1))\n",
    "\n",
    "# weight vector\n",
    "W = np.random.uniform(low=0, high=1, size=(3,1))\n",
    "\n",
    "# theta, threshold\n",
    "theta = 0.5\n",
    "result = []\n",
    "\n",
    "# 学習率\n",
    "learning_rate = 0.002\n",
    "\n",
    "print(\"更新前の重み\\n\",W)\n",
    "\n",
    "# 重みの更新\n",
    "while True:\n",
    "    prediction = perceptron(X, W, theta, result)\n",
    "    # list => numpy arrayの変換\n",
    "    prediction = np.array(prediction).reshape(len(prediction),1)\n",
    "    W, num_error = update_rule(X, y, prediction, learning_rate, W)\n",
    "    print(\"重み更新後\\n\",W)\n",
    "    print(num_error)\n",
    "\n",
    "    # 間違いの数を閾値とする\n",
    "    if num_error <= 3:\n",
    "        break\n"
   ]
  },
  {
   "cell_type": "code",
   "execution_count": null,
   "metadata": {
    "collapsed": true
   },
   "outputs": [],
   "source": []
  }
 ],
 "metadata": {
  "kernelspec": {
   "display_name": "Python 3",
   "language": "python",
   "name": "python3"
  },
  "language_info": {
   "codemirror_mode": {
    "name": "ipython",
    "version": 3
   },
   "file_extension": ".py",
   "mimetype": "text/x-python",
   "name": "python",
   "nbconvert_exporter": "python",
   "pygments_lexer": "ipython3",
   "version": "3.6.5"
  }
 },
 "nbformat": 4,
 "nbformat_minor": 2
}
